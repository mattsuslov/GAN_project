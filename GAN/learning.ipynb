{
 "cells": [
  {
   "cell_type": "code",
   "execution_count": 11,
   "metadata": {},
   "outputs": [],
   "source": [
    "from CustomDataset import CustomDataset\n",
    "import torchvision.transforms as tt\n",
    "from visual import show_batch\n",
    "from models import cDCGAN\n",
    "\n",
    "from torch.utils.data import DataLoader"
   ]
  },
  {
   "cell_type": "code",
   "execution_count": 12,
   "metadata": {},
   "outputs": [],
   "source": [
    "photo_size = 64\n",
    "num_classes = 1\n",
    "BATCH = 256"
   ]
  },
  {
   "cell_type": "code",
   "execution_count": 13,
   "metadata": {},
   "outputs": [],
   "source": [
    "transform = tt.Compose([\n",
    "    tt.Resize(size=(photo_size, photo_size)),\n",
    "    tt.ToTensor(),\n",
    "    tt.Normalize(mean=[0.485, 0.456, 0.406],\n",
    "                 std=[0.229, 0.224, 0.225])\n",
    "])\n",
    "\n",
    "customdataset = CustomDataset(features_path=\"/Users/osiprovin/gigaProject-1/main/Data/features.csv\",\n",
    "                              index_col=\"image_id\",\n",
    "                              images_path=\"/Users/osiprovin/gigaProject-1/main/Data/photos\",\n",
    "                              transform=transform)\n",
    "dataloader = DataLoader(customdataset, shuffle=True, drop_last=True, batch_size=BATCH)"
   ]
  },
  {
   "cell_type": "code",
   "execution_count": 14,
   "metadata": {},
   "outputs": [],
   "source": [
    "# model = cDCGAN(num_classes=1, photo_size=64)\n",
    "# model.saving_model(\"/Users/osiprovin/Desktop/gigaGan\")\n",
    "# model.fit(dataloader)"
   ]
  },
  {
   "cell_type": "code",
   "execution_count": 15,
   "metadata": {},
   "outputs": [],
   "source": [
    "x, f1, f2, f3 = next(iter(dataloader))"
   ]
  },
  {
   "cell_type": "code",
   "execution_count": 16,
   "metadata": {},
   "outputs": [
    {
     "name": "stderr",
     "output_type": "stream",
     "text": [
      "/Users/osiprovin/Documents/cDCGAN_project/models.py:108: UserWarning: To copy construct from a tensor, it is recommended to use sourceTensor.clone().detach() or sourceTensor.clone().detach().requires_grad_(True), rather than torch.tensor(sourceTensor).\n",
      "  return self.model[\"generator\"](latent, torch.tensor(features, dtype=torch.float32).to(self.device))\n"
     ]
    }
   ],
   "source": [
    "model = cDCGAN(num_classes=1, photo_size=64)\n",
    "model.load_model(path_to_discriminator=\"/Users/osiprovin/Desktop/gigaGan/discriminator_0.pt\", \n",
    "                 path_to_generator=\"/Users/osiprovin/Desktop/gigaGan/generator_0.pt\")\n",
    "gen = model.generate(f1)"
   ]
  },
  {
   "cell_type": "code",
   "execution_count": 17,
   "metadata": {},
   "outputs": [],
   "source": [
    "show_batch(gen)"
   ]
  }
 ],
 "metadata": {
  "kernelspec": {
   "display_name": "Python 3.10 (tensorflow)",
   "language": "python",
   "name": "tensorflow"
  },
  "language_info": {
   "codemirror_mode": {
    "name": "ipython",
    "version": 3
   },
   "file_extension": ".py",
   "mimetype": "text/x-python",
   "name": "python",
   "nbconvert_exporter": "python",
   "pygments_lexer": "ipython3",
   "version": "3.10.9"
  },
  "orig_nbformat": 4
 },
 "nbformat": 4,
 "nbformat_minor": 2
}
